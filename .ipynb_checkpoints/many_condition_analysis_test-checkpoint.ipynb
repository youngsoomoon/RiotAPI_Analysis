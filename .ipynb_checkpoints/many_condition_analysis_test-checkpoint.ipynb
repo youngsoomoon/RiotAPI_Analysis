{
 "cells": [
  {
   "cell_type": "code",
   "execution_count": 1,
   "metadata": {},
   "outputs": [],
   "source": [
    "import requests\n",
    "import json\n",
    "import pandas as pd\n",
    "import pymongo\n",
    "import time\n",
    "import matplotlib\n",
    "import matplotlib.pyplot as plt\n",
    "import seaborn as sns\n",
    "import numpy as np\n",
    "%matplotlib inline"
   ]
  },
  {
   "cell_type": "code",
   "execution_count": 2,
   "metadata": {},
   "outputs": [],
   "source": [
    "from pymongo import MongoClient\n",
    "client = MongoClient()\n",
    "db = client.RiotAPI\n",
    "\n",
    "challenger_user_collection = db.league_challenger_user\n",
    "challenger_accId_collection = db.challenger_accId\n",
    "challenger_gameId_collection = db.challenger_gameId\n",
    "challenger_gameData_collection = db.challenger_gameData"
   ]
  },
  {
   "cell_type": "code",
   "execution_count": 66,
   "metadata": {},
   "outputs": [],
   "source": [
    "plt.rc(\"font\", family=\"Malgun Gothic\")\n",
    "plt.rc(\"axes\", unicode_minus=False)"
   ]
  },
  {
   "cell_type": "code",
   "execution_count": 40,
   "metadata": {},
   "outputs": [],
   "source": [
    "%config InlineBackend.figure_format = 'retina'"
   ]
  },
  {
   "cell_type": "code",
   "execution_count": 5,
   "metadata": {},
   "outputs": [
    {
     "data": {
      "text/html": [
       "<div>\n",
       "<style scoped>\n",
       "    .dataframe tbody tr th:only-of-type {\n",
       "        vertical-align: middle;\n",
       "    }\n",
       "\n",
       "    .dataframe tbody tr th {\n",
       "        vertical-align: top;\n",
       "    }\n",
       "\n",
       "    .dataframe thead th {\n",
       "        text-align: right;\n",
       "    }\n",
       "</style>\n",
       "<table border=\"1\" class=\"dataframe\">\n",
       "  <thead>\n",
       "    <tr style=\"text-align: right;\">\n",
       "      <th></th>\n",
       "      <th>_id</th>\n",
       "      <th>gameId</th>\n",
       "      <th>platformId</th>\n",
       "      <th>gameCreation</th>\n",
       "      <th>gameDuration</th>\n",
       "      <th>queueId</th>\n",
       "      <th>mapId</th>\n",
       "      <th>seasonId</th>\n",
       "      <th>gameVersion</th>\n",
       "      <th>gameMode</th>\n",
       "      <th>gameType</th>\n",
       "      <th>teams</th>\n",
       "      <th>participants</th>\n",
       "      <th>participantIdentities</th>\n",
       "      <th>status</th>\n",
       "    </tr>\n",
       "  </thead>\n",
       "  <tbody>\n",
       "    <tr>\n",
       "      <th>0</th>\n",
       "      <td>60781227eff50a6c3c40dc98</td>\n",
       "      <td>5.132032e+09</td>\n",
       "      <td>KR</td>\n",
       "      <td>1.618478e+12</td>\n",
       "      <td>1379.0</td>\n",
       "      <td>420.0</td>\n",
       "      <td>11.0</td>\n",
       "      <td>13.0</td>\n",
       "      <td>11.8.370.4668</td>\n",
       "      <td>CLASSIC</td>\n",
       "      <td>MATCHED_GAME</td>\n",
       "      <td>[{'teamId': 100, 'win': 'Fail', 'firstBlood': ...</td>\n",
       "      <td>[{'participantId': 1, 'teamId': 100, 'champion...</td>\n",
       "      <td>[{'participantId': 1, 'player': {'platformId':...</td>\n",
       "      <td>NaN</td>\n",
       "    </tr>\n",
       "    <tr>\n",
       "      <th>1</th>\n",
       "      <td>60781229eff50a6c3c40dc99</td>\n",
       "      <td>5.131928e+09</td>\n",
       "      <td>KR</td>\n",
       "      <td>1.618475e+12</td>\n",
       "      <td>1004.0</td>\n",
       "      <td>420.0</td>\n",
       "      <td>11.0</td>\n",
       "      <td>13.0</td>\n",
       "      <td>11.8.370.4668</td>\n",
       "      <td>CLASSIC</td>\n",
       "      <td>MATCHED_GAME</td>\n",
       "      <td>[{'teamId': 100, 'win': 'Fail', 'firstBlood': ...</td>\n",
       "      <td>[{'participantId': 1, 'teamId': 100, 'champion...</td>\n",
       "      <td>[{'participantId': 1, 'player': {'platformId':...</td>\n",
       "      <td>NaN</td>\n",
       "    </tr>\n",
       "    <tr>\n",
       "      <th>2</th>\n",
       "      <td>6078122beff50a6c3c40dc9a</td>\n",
       "      <td>5.131994e+09</td>\n",
       "      <td>KR</td>\n",
       "      <td>1.618473e+12</td>\n",
       "      <td>1204.0</td>\n",
       "      <td>420.0</td>\n",
       "      <td>11.0</td>\n",
       "      <td>13.0</td>\n",
       "      <td>11.8.370.4668</td>\n",
       "      <td>CLASSIC</td>\n",
       "      <td>MATCHED_GAME</td>\n",
       "      <td>[{'teamId': 100, 'win': 'Win', 'firstBlood': F...</td>\n",
       "      <td>[{'participantId': 1, 'teamId': 100, 'champion...</td>\n",
       "      <td>[{'participantId': 1, 'player': {'platformId':...</td>\n",
       "      <td>NaN</td>\n",
       "    </tr>\n",
       "    <tr>\n",
       "      <th>3</th>\n",
       "      <td>6078122deff50a6c3c40dc9b</td>\n",
       "      <td>5.131098e+09</td>\n",
       "      <td>KR</td>\n",
       "      <td>1.618416e+12</td>\n",
       "      <td>1192.0</td>\n",
       "      <td>420.0</td>\n",
       "      <td>11.0</td>\n",
       "      <td>13.0</td>\n",
       "      <td>11.8.369.4139</td>\n",
       "      <td>CLASSIC</td>\n",
       "      <td>MATCHED_GAME</td>\n",
       "      <td>[{'teamId': 100, 'win': 'Fail', 'firstBlood': ...</td>\n",
       "      <td>[{'participantId': 1, 'teamId': 100, 'champion...</td>\n",
       "      <td>[{'participantId': 1, 'player': {'platformId':...</td>\n",
       "      <td>NaN</td>\n",
       "    </tr>\n",
       "    <tr>\n",
       "      <th>4</th>\n",
       "      <td>6078122feff50a6c3c40dc9c</td>\n",
       "      <td>5.131013e+09</td>\n",
       "      <td>KR</td>\n",
       "      <td>1.618413e+12</td>\n",
       "      <td>1652.0</td>\n",
       "      <td>420.0</td>\n",
       "      <td>11.0</td>\n",
       "      <td>13.0</td>\n",
       "      <td>11.8.369.4139</td>\n",
       "      <td>CLASSIC</td>\n",
       "      <td>MATCHED_GAME</td>\n",
       "      <td>[{'teamId': 100, 'win': 'Win', 'firstBlood': F...</td>\n",
       "      <td>[{'participantId': 1, 'teamId': 100, 'champion...</td>\n",
       "      <td>[{'participantId': 1, 'player': {'platformId':...</td>\n",
       "      <td>NaN</td>\n",
       "    </tr>\n",
       "    <tr>\n",
       "      <th>...</th>\n",
       "      <td>...</td>\n",
       "      <td>...</td>\n",
       "      <td>...</td>\n",
       "      <td>...</td>\n",
       "      <td>...</td>\n",
       "      <td>...</td>\n",
       "      <td>...</td>\n",
       "      <td>...</td>\n",
       "      <td>...</td>\n",
       "      <td>...</td>\n",
       "      <td>...</td>\n",
       "      <td>...</td>\n",
       "      <td>...</td>\n",
       "      <td>...</td>\n",
       "      <td>...</td>\n",
       "    </tr>\n",
       "    <tr>\n",
       "      <th>27988</th>\n",
       "      <td>6078e27beff50a6c3c4149ec</td>\n",
       "      <td>NaN</td>\n",
       "      <td>NaN</td>\n",
       "      <td>NaN</td>\n",
       "      <td>NaN</td>\n",
       "      <td>NaN</td>\n",
       "      <td>NaN</td>\n",
       "      <td>NaN</td>\n",
       "      <td>NaN</td>\n",
       "      <td>NaN</td>\n",
       "      <td>NaN</td>\n",
       "      <td>NaN</td>\n",
       "      <td>NaN</td>\n",
       "      <td>NaN</td>\n",
       "      <td>{'message': 'Forbidden', 'status_code': 403}</td>\n",
       "    </tr>\n",
       "    <tr>\n",
       "      <th>27989</th>\n",
       "      <td>6078e27deff50a6c3c4149ed</td>\n",
       "      <td>NaN</td>\n",
       "      <td>NaN</td>\n",
       "      <td>NaN</td>\n",
       "      <td>NaN</td>\n",
       "      <td>NaN</td>\n",
       "      <td>NaN</td>\n",
       "      <td>NaN</td>\n",
       "      <td>NaN</td>\n",
       "      <td>NaN</td>\n",
       "      <td>NaN</td>\n",
       "      <td>NaN</td>\n",
       "      <td>NaN</td>\n",
       "      <td>NaN</td>\n",
       "      <td>{'message': 'Forbidden', 'status_code': 403}</td>\n",
       "    </tr>\n",
       "    <tr>\n",
       "      <th>27990</th>\n",
       "      <td>6078e27feff50a6c3c4149ee</td>\n",
       "      <td>NaN</td>\n",
       "      <td>NaN</td>\n",
       "      <td>NaN</td>\n",
       "      <td>NaN</td>\n",
       "      <td>NaN</td>\n",
       "      <td>NaN</td>\n",
       "      <td>NaN</td>\n",
       "      <td>NaN</td>\n",
       "      <td>NaN</td>\n",
       "      <td>NaN</td>\n",
       "      <td>NaN</td>\n",
       "      <td>NaN</td>\n",
       "      <td>NaN</td>\n",
       "      <td>{'message': 'Forbidden', 'status_code': 403}</td>\n",
       "    </tr>\n",
       "    <tr>\n",
       "      <th>27991</th>\n",
       "      <td>6078e280eff50a6c3c4149ef</td>\n",
       "      <td>NaN</td>\n",
       "      <td>NaN</td>\n",
       "      <td>NaN</td>\n",
       "      <td>NaN</td>\n",
       "      <td>NaN</td>\n",
       "      <td>NaN</td>\n",
       "      <td>NaN</td>\n",
       "      <td>NaN</td>\n",
       "      <td>NaN</td>\n",
       "      <td>NaN</td>\n",
       "      <td>NaN</td>\n",
       "      <td>NaN</td>\n",
       "      <td>NaN</td>\n",
       "      <td>{'message': 'Forbidden', 'status_code': 403}</td>\n",
       "    </tr>\n",
       "    <tr>\n",
       "      <th>27992</th>\n",
       "      <td>6078e282eff50a6c3c4149f0</td>\n",
       "      <td>NaN</td>\n",
       "      <td>NaN</td>\n",
       "      <td>NaN</td>\n",
       "      <td>NaN</td>\n",
       "      <td>NaN</td>\n",
       "      <td>NaN</td>\n",
       "      <td>NaN</td>\n",
       "      <td>NaN</td>\n",
       "      <td>NaN</td>\n",
       "      <td>NaN</td>\n",
       "      <td>NaN</td>\n",
       "      <td>NaN</td>\n",
       "      <td>NaN</td>\n",
       "      <td>{'message': 'Forbidden', 'status_code': 403}</td>\n",
       "    </tr>\n",
       "  </tbody>\n",
       "</table>\n",
       "<p>27993 rows × 15 columns</p>\n",
       "</div>"
      ],
      "text/plain": [
       "                            _id        gameId platformId  gameCreation  \\\n",
       "0      60781227eff50a6c3c40dc98  5.132032e+09         KR  1.618478e+12   \n",
       "1      60781229eff50a6c3c40dc99  5.131928e+09         KR  1.618475e+12   \n",
       "2      6078122beff50a6c3c40dc9a  5.131994e+09         KR  1.618473e+12   \n",
       "3      6078122deff50a6c3c40dc9b  5.131098e+09         KR  1.618416e+12   \n",
       "4      6078122feff50a6c3c40dc9c  5.131013e+09         KR  1.618413e+12   \n",
       "...                         ...           ...        ...           ...   \n",
       "27988  6078e27beff50a6c3c4149ec           NaN        NaN           NaN   \n",
       "27989  6078e27deff50a6c3c4149ed           NaN        NaN           NaN   \n",
       "27990  6078e27feff50a6c3c4149ee           NaN        NaN           NaN   \n",
       "27991  6078e280eff50a6c3c4149ef           NaN        NaN           NaN   \n",
       "27992  6078e282eff50a6c3c4149f0           NaN        NaN           NaN   \n",
       "\n",
       "       gameDuration  queueId  mapId  seasonId    gameVersion gameMode  \\\n",
       "0            1379.0    420.0   11.0      13.0  11.8.370.4668  CLASSIC   \n",
       "1            1004.0    420.0   11.0      13.0  11.8.370.4668  CLASSIC   \n",
       "2            1204.0    420.0   11.0      13.0  11.8.370.4668  CLASSIC   \n",
       "3            1192.0    420.0   11.0      13.0  11.8.369.4139  CLASSIC   \n",
       "4            1652.0    420.0   11.0      13.0  11.8.369.4139  CLASSIC   \n",
       "...             ...      ...    ...       ...            ...      ...   \n",
       "27988           NaN      NaN    NaN       NaN            NaN      NaN   \n",
       "27989           NaN      NaN    NaN       NaN            NaN      NaN   \n",
       "27990           NaN      NaN    NaN       NaN            NaN      NaN   \n",
       "27991           NaN      NaN    NaN       NaN            NaN      NaN   \n",
       "27992           NaN      NaN    NaN       NaN            NaN      NaN   \n",
       "\n",
       "           gameType                                              teams  \\\n",
       "0      MATCHED_GAME  [{'teamId': 100, 'win': 'Fail', 'firstBlood': ...   \n",
       "1      MATCHED_GAME  [{'teamId': 100, 'win': 'Fail', 'firstBlood': ...   \n",
       "2      MATCHED_GAME  [{'teamId': 100, 'win': 'Win', 'firstBlood': F...   \n",
       "3      MATCHED_GAME  [{'teamId': 100, 'win': 'Fail', 'firstBlood': ...   \n",
       "4      MATCHED_GAME  [{'teamId': 100, 'win': 'Win', 'firstBlood': F...   \n",
       "...             ...                                                ...   \n",
       "27988           NaN                                                NaN   \n",
       "27989           NaN                                                NaN   \n",
       "27990           NaN                                                NaN   \n",
       "27991           NaN                                                NaN   \n",
       "27992           NaN                                                NaN   \n",
       "\n",
       "                                            participants  \\\n",
       "0      [{'participantId': 1, 'teamId': 100, 'champion...   \n",
       "1      [{'participantId': 1, 'teamId': 100, 'champion...   \n",
       "2      [{'participantId': 1, 'teamId': 100, 'champion...   \n",
       "3      [{'participantId': 1, 'teamId': 100, 'champion...   \n",
       "4      [{'participantId': 1, 'teamId': 100, 'champion...   \n",
       "...                                                  ...   \n",
       "27988                                                NaN   \n",
       "27989                                                NaN   \n",
       "27990                                                NaN   \n",
       "27991                                                NaN   \n",
       "27992                                                NaN   \n",
       "\n",
       "                                   participantIdentities  \\\n",
       "0      [{'participantId': 1, 'player': {'platformId':...   \n",
       "1      [{'participantId': 1, 'player': {'platformId':...   \n",
       "2      [{'participantId': 1, 'player': {'platformId':...   \n",
       "3      [{'participantId': 1, 'player': {'platformId':...   \n",
       "4      [{'participantId': 1, 'player': {'platformId':...   \n",
       "...                                                  ...   \n",
       "27988                                                NaN   \n",
       "27989                                                NaN   \n",
       "27990                                                NaN   \n",
       "27991                                                NaN   \n",
       "27992                                                NaN   \n",
       "\n",
       "                                             status  \n",
       "0                                               NaN  \n",
       "1                                               NaN  \n",
       "2                                               NaN  \n",
       "3                                               NaN  \n",
       "4                                               NaN  \n",
       "...                                             ...  \n",
       "27988  {'message': 'Forbidden', 'status_code': 403}  \n",
       "27989  {'message': 'Forbidden', 'status_code': 403}  \n",
       "27990  {'message': 'Forbidden', 'status_code': 403}  \n",
       "27991  {'message': 'Forbidden', 'status_code': 403}  \n",
       "27992  {'message': 'Forbidden', 'status_code': 403}  \n",
       "\n",
       "[27993 rows x 15 columns]"
      ]
     },
     "execution_count": 5,
     "metadata": {},
     "output_type": "execute_result"
    }
   ],
   "source": [
    "chal_league_df = pd.DataFrame(challenger_gameData_collection.find())\n",
    "chal_league_df"
   ]
  },
  {
   "cell_type": "code",
   "execution_count": 6,
   "metadata": {},
   "outputs": [
    {
     "data": {
      "text/plain": [
       "<AxesSubplot:>"
      ]
     },
     "execution_count": 6,
     "metadata": {},
     "output_type": "execute_result"
    },
    {
     "data": {
      "image/png": "[encoded data removed]",
      "text/plain": [
       "<Figure size 432x288 with 1 Axes>"
      ]
     },
     "metadata": {
      "image/png": {
       "height": 249,
       "width": 373
      },
      "needs_background": "light"
     },
     "output_type": "display_data"
    }
   ],
   "source": [
    "chal_league_df.isnull().sum()\n",
    "chal_league_df = chal_league_df.drop(columns=['status'],axis=1)\n",
    "chal_league_df = chal_league_df.dropna()\n",
    "chal_league_df = chal_league_df.drop_duplicates(['gameId'])\n",
    "chal_teams_df = pd.DataFrame(dict(chal_league_df['teams'])).T\n",
    "chal_teams_df = pd.concat([chal_league_df, chal_teams_df[0]], axis=1)\n",
    "chal_teams_df = pd.DataFrame(dict(chal_teams_df[0])).T\n",
    "chal_teams_df['win'].value_counts().plot.barh()"
   ]
  },
  {
   "cell_type": "code",
   "execution_count": 7,
   "metadata": {},
   "outputs": [
    {
     "data": {
      "text/html": [
       "<div>\n",
       "<style scoped>\n",
       "    .dataframe tbody tr th:only-of-type {\n",
       "        vertical-align: middle;\n",
       "    }\n",
       "\n",
       "    .dataframe tbody tr th {\n",
       "        vertical-align: top;\n",
       "    }\n",
       "\n",
       "    .dataframe thead th {\n",
       "        text-align: right;\n",
       "    }\n",
       "</style>\n",
       "<table border=\"1\" class=\"dataframe\">\n",
       "  <thead>\n",
       "    <tr style=\"text-align: right;\">\n",
       "      <th></th>\n",
       "      <th>teamId</th>\n",
       "      <th>win</th>\n",
       "      <th>firstBlood</th>\n",
       "      <th>firstTower</th>\n",
       "      <th>firstInhibitor</th>\n",
       "      <th>firstBaron</th>\n",
       "      <th>firstDragon</th>\n",
       "      <th>firstRiftHerald</th>\n",
       "      <th>towerKills</th>\n",
       "      <th>inhibitorKills</th>\n",
       "      <th>baronKills</th>\n",
       "      <th>dragonKills</th>\n",
       "      <th>vilemawKills</th>\n",
       "      <th>riftHeraldKills</th>\n",
       "      <th>dominionVictoryScore</th>\n",
       "      <th>bans</th>\n",
       "    </tr>\n",
       "  </thead>\n",
       "  <tbody>\n",
       "    <tr>\n",
       "      <th>0</th>\n",
       "      <td>100</td>\n",
       "      <td>Fail</td>\n",
       "      <td>True</td>\n",
       "      <td>True</td>\n",
       "      <td>False</td>\n",
       "      <td>False</td>\n",
       "      <td>False</td>\n",
       "      <td>True</td>\n",
       "      <td>2</td>\n",
       "      <td>0</td>\n",
       "      <td>0</td>\n",
       "      <td>1</td>\n",
       "      <td>0</td>\n",
       "      <td>1</td>\n",
       "      <td>0</td>\n",
       "      <td>[{'championId': 238, 'pickTurn': 1}, {'champio...</td>\n",
       "    </tr>\n",
       "    <tr>\n",
       "      <th>1</th>\n",
       "      <td>100</td>\n",
       "      <td>Fail</td>\n",
       "      <td>False</td>\n",
       "      <td>False</td>\n",
       "      <td>False</td>\n",
       "      <td>False</td>\n",
       "      <td>True</td>\n",
       "      <td>False</td>\n",
       "      <td>0</td>\n",
       "      <td>0</td>\n",
       "      <td>0</td>\n",
       "      <td>1</td>\n",
       "      <td>0</td>\n",
       "      <td>0</td>\n",
       "      <td>0</td>\n",
       "      <td>[{'championId': 39, 'pickTurn': 1}, {'champion...</td>\n",
       "    </tr>\n",
       "    <tr>\n",
       "      <th>2</th>\n",
       "      <td>100</td>\n",
       "      <td>Win</td>\n",
       "      <td>False</td>\n",
       "      <td>True</td>\n",
       "      <td>True</td>\n",
       "      <td>False</td>\n",
       "      <td>False</td>\n",
       "      <td>True</td>\n",
       "      <td>10</td>\n",
       "      <td>1</td>\n",
       "      <td>0</td>\n",
       "      <td>0</td>\n",
       "      <td>0</td>\n",
       "      <td>2</td>\n",
       "      <td>0</td>\n",
       "      <td>[{'championId': 76, 'pickTurn': 1}, {'champion...</td>\n",
       "    </tr>\n",
       "    <tr>\n",
       "      <th>3</th>\n",
       "      <td>100</td>\n",
       "      <td>Fail</td>\n",
       "      <td>False</td>\n",
       "      <td>False</td>\n",
       "      <td>False</td>\n",
       "      <td>False</td>\n",
       "      <td>False</td>\n",
       "      <td>False</td>\n",
       "      <td>1</td>\n",
       "      <td>0</td>\n",
       "      <td>0</td>\n",
       "      <td>0</td>\n",
       "      <td>0</td>\n",
       "      <td>0</td>\n",
       "      <td>0</td>\n",
       "      <td>[{'championId': 145, 'pickTurn': 1}, {'champio...</td>\n",
       "    </tr>\n",
       "    <tr>\n",
       "      <th>4</th>\n",
       "      <td>100</td>\n",
       "      <td>Win</td>\n",
       "      <td>False</td>\n",
       "      <td>True</td>\n",
       "      <td>True</td>\n",
       "      <td>True</td>\n",
       "      <td>False</td>\n",
       "      <td>False</td>\n",
       "      <td>6</td>\n",
       "      <td>1</td>\n",
       "      <td>1</td>\n",
       "      <td>1</td>\n",
       "      <td>0</td>\n",
       "      <td>1</td>\n",
       "      <td>0</td>\n",
       "      <td>[{'championId': 223, 'pickTurn': 1}, {'champio...</td>\n",
       "    </tr>\n",
       "    <tr>\n",
       "      <th>...</th>\n",
       "      <td>...</td>\n",
       "      <td>...</td>\n",
       "      <td>...</td>\n",
       "      <td>...</td>\n",
       "      <td>...</td>\n",
       "      <td>...</td>\n",
       "      <td>...</td>\n",
       "      <td>...</td>\n",
       "      <td>...</td>\n",
       "      <td>...</td>\n",
       "      <td>...</td>\n",
       "      <td>...</td>\n",
       "      <td>...</td>\n",
       "      <td>...</td>\n",
       "      <td>...</td>\n",
       "      <td>...</td>\n",
       "    </tr>\n",
       "    <tr>\n",
       "      <th>27792</th>\n",
       "      <td>100</td>\n",
       "      <td>Win</td>\n",
       "      <td>True</td>\n",
       "      <td>False</td>\n",
       "      <td>False</td>\n",
       "      <td>False</td>\n",
       "      <td>True</td>\n",
       "      <td>False</td>\n",
       "      <td>2</td>\n",
       "      <td>0</td>\n",
       "      <td>0</td>\n",
       "      <td>2</td>\n",
       "      <td>0</td>\n",
       "      <td>0</td>\n",
       "      <td>0</td>\n",
       "      <td>[]</td>\n",
       "    </tr>\n",
       "    <tr>\n",
       "      <th>27796</th>\n",
       "      <td>100</td>\n",
       "      <td>Win</td>\n",
       "      <td>True</td>\n",
       "      <td>True</td>\n",
       "      <td>True</td>\n",
       "      <td>False</td>\n",
       "      <td>False</td>\n",
       "      <td>True</td>\n",
       "      <td>6</td>\n",
       "      <td>1</td>\n",
       "      <td>0</td>\n",
       "      <td>0</td>\n",
       "      <td>0</td>\n",
       "      <td>1</td>\n",
       "      <td>0</td>\n",
       "      <td>[{'championId': 120, 'pickTurn': 1}, {'champio...</td>\n",
       "    </tr>\n",
       "    <tr>\n",
       "      <th>27799</th>\n",
       "      <td>100</td>\n",
       "      <td>Win</td>\n",
       "      <td>False</td>\n",
       "      <td>False</td>\n",
       "      <td>True</td>\n",
       "      <td>False</td>\n",
       "      <td>False</td>\n",
       "      <td>False</td>\n",
       "      <td>4</td>\n",
       "      <td>1</td>\n",
       "      <td>0</td>\n",
       "      <td>0</td>\n",
       "      <td>0</td>\n",
       "      <td>0</td>\n",
       "      <td>0</td>\n",
       "      <td>[]</td>\n",
       "    </tr>\n",
       "    <tr>\n",
       "      <th>27859</th>\n",
       "      <td>100</td>\n",
       "      <td>Fail</td>\n",
       "      <td>False</td>\n",
       "      <td>False</td>\n",
       "      <td>False</td>\n",
       "      <td>False</td>\n",
       "      <td>False</td>\n",
       "      <td>False</td>\n",
       "      <td>0</td>\n",
       "      <td>0</td>\n",
       "      <td>0</td>\n",
       "      <td>0</td>\n",
       "      <td>0</td>\n",
       "      <td>0</td>\n",
       "      <td>0</td>\n",
       "      <td>[]</td>\n",
       "    </tr>\n",
       "    <tr>\n",
       "      <th>27873</th>\n",
       "      <td>100</td>\n",
       "      <td>Win</td>\n",
       "      <td>False</td>\n",
       "      <td>False</td>\n",
       "      <td>True</td>\n",
       "      <td>False</td>\n",
       "      <td>False</td>\n",
       "      <td>False</td>\n",
       "      <td>4</td>\n",
       "      <td>1</td>\n",
       "      <td>0</td>\n",
       "      <td>0</td>\n",
       "      <td>0</td>\n",
       "      <td>0</td>\n",
       "      <td>0</td>\n",
       "      <td>[]</td>\n",
       "    </tr>\n",
       "  </tbody>\n",
       "</table>\n",
       "<p>13647 rows × 16 columns</p>\n",
       "</div>"
      ],
      "text/plain": [
       "      teamId   win firstBlood firstTower firstInhibitor firstBaron  \\\n",
       "0        100  Fail       True       True          False      False   \n",
       "1        100  Fail      False      False          False      False   \n",
       "2        100   Win      False       True           True      False   \n",
       "3        100  Fail      False      False          False      False   \n",
       "4        100   Win      False       True           True       True   \n",
       "...      ...   ...        ...        ...            ...        ...   \n",
       "27792    100   Win       True      False          False      False   \n",
       "27796    100   Win       True       True           True      False   \n",
       "27799    100   Win      False      False           True      False   \n",
       "27859    100  Fail      False      False          False      False   \n",
       "27873    100   Win      False      False           True      False   \n",
       "\n",
       "      firstDragon firstRiftHerald towerKills inhibitorKills baronKills  \\\n",
       "0           False            True          2              0          0   \n",
       "1            True           False          0              0          0   \n",
       "2           False            True         10              1          0   \n",
       "3           False           False          1              0          0   \n",
       "4           False           False          6              1          1   \n",
       "...           ...             ...        ...            ...        ...   \n",
       "27792        True           False          2              0          0   \n",
       "27796       False            True          6              1          0   \n",
       "27799       False           False          4              1          0   \n",
       "27859       False           False          0              0          0   \n",
       "27873       False           False          4              1          0   \n",
       "\n",
       "      dragonKills vilemawKills riftHeraldKills dominionVictoryScore  \\\n",
       "0               1            0               1                    0   \n",
       "1               1            0               0                    0   \n",
       "2               0            0               2                    0   \n",
       "3               0            0               0                    0   \n",
       "4               1            0               1                    0   \n",
       "...           ...          ...             ...                  ...   \n",
       "27792           2            0               0                    0   \n",
       "27796           0            0               1                    0   \n",
       "27799           0            0               0                    0   \n",
       "27859           0            0               0                    0   \n",
       "27873           0            0               0                    0   \n",
       "\n",
       "                                                    bans  \n",
       "0      [{'championId': 238, 'pickTurn': 1}, {'champio...  \n",
       "1      [{'championId': 39, 'pickTurn': 1}, {'champion...  \n",
       "2      [{'championId': 76, 'pickTurn': 1}, {'champion...  \n",
       "3      [{'championId': 145, 'pickTurn': 1}, {'champio...  \n",
       "4      [{'championId': 223, 'pickTurn': 1}, {'champio...  \n",
       "...                                                  ...  \n",
       "27792                                                 []  \n",
       "27796  [{'championId': 120, 'pickTurn': 1}, {'champio...  \n",
       "27799                                                 []  \n",
       "27859                                                 []  \n",
       "27873                                                 []  \n",
       "\n",
       "[13647 rows x 16 columns]"
      ]
     },
     "execution_count": 7,
     "metadata": {},
     "output_type": "execute_result"
    }
   ],
   "source": [
    "chal_teams_df"
   ]
  },
  {
   "cell_type": "markdown",
   "metadata": {},
   "source": [
    "# 분석에 필요한 컬럼들만 남겨둔다."
   ]
  },
  {
   "cell_type": "code",
   "execution_count": 8,
   "metadata": {},
   "outputs": [],
   "source": [
    "chal_teams_df1 = chal_teams_df.drop(['teamId', 'towerKills', 'inhibitorKills', 'baronKills', 'dragonKills', 'vilemawKills', 'riftHeraldKills','dominionVictoryScore', 'bans' ],axis = 1)"
   ]
  },
  {
   "cell_type": "code",
   "execution_count": 9,
   "metadata": {},
   "outputs": [],
   "source": [
    "chal_teams_df1 = chal_teams_df1.drop(['firstBaron', 'firstRiftHerald'],axis = 1)"
   ]
  },
  {
   "cell_type": "code",
   "execution_count": 10,
   "metadata": {},
   "outputs": [
    {
     "data": {
      "text/html": [
       "<div>\n",
       "<style scoped>\n",
       "    .dataframe tbody tr th:only-of-type {\n",
       "        vertical-align: middle;\n",
       "    }\n",
       "\n",
       "    .dataframe tbody tr th {\n",
       "        vertical-align: top;\n",
       "    }\n",
       "\n",
       "    .dataframe thead th {\n",
       "        text-align: right;\n",
       "    }\n",
       "</style>\n",
       "<table border=\"1\" class=\"dataframe\">\n",
       "  <thead>\n",
       "    <tr style=\"text-align: right;\">\n",
       "      <th></th>\n",
       "      <th>win</th>\n",
       "      <th>firstBlood</th>\n",
       "      <th>firstTower</th>\n",
       "      <th>firstInhibitor</th>\n",
       "      <th>firstDragon</th>\n",
       "    </tr>\n",
       "  </thead>\n",
       "  <tbody>\n",
       "    <tr>\n",
       "      <th>0</th>\n",
       "      <td>Fail</td>\n",
       "      <td>True</td>\n",
       "      <td>True</td>\n",
       "      <td>False</td>\n",
       "      <td>False</td>\n",
       "    </tr>\n",
       "    <tr>\n",
       "      <th>1</th>\n",
       "      <td>Fail</td>\n",
       "      <td>False</td>\n",
       "      <td>False</td>\n",
       "      <td>False</td>\n",
       "      <td>True</td>\n",
       "    </tr>\n",
       "    <tr>\n",
       "      <th>2</th>\n",
       "      <td>Win</td>\n",
       "      <td>False</td>\n",
       "      <td>True</td>\n",
       "      <td>True</td>\n",
       "      <td>False</td>\n",
       "    </tr>\n",
       "    <tr>\n",
       "      <th>3</th>\n",
       "      <td>Fail</td>\n",
       "      <td>False</td>\n",
       "      <td>False</td>\n",
       "      <td>False</td>\n",
       "      <td>False</td>\n",
       "    </tr>\n",
       "    <tr>\n",
       "      <th>4</th>\n",
       "      <td>Win</td>\n",
       "      <td>False</td>\n",
       "      <td>True</td>\n",
       "      <td>True</td>\n",
       "      <td>False</td>\n",
       "    </tr>\n",
       "    <tr>\n",
       "      <th>...</th>\n",
       "      <td>...</td>\n",
       "      <td>...</td>\n",
       "      <td>...</td>\n",
       "      <td>...</td>\n",
       "      <td>...</td>\n",
       "    </tr>\n",
       "    <tr>\n",
       "      <th>27792</th>\n",
       "      <td>Win</td>\n",
       "      <td>True</td>\n",
       "      <td>False</td>\n",
       "      <td>False</td>\n",
       "      <td>True</td>\n",
       "    </tr>\n",
       "    <tr>\n",
       "      <th>27796</th>\n",
       "      <td>Win</td>\n",
       "      <td>True</td>\n",
       "      <td>True</td>\n",
       "      <td>True</td>\n",
       "      <td>False</td>\n",
       "    </tr>\n",
       "    <tr>\n",
       "      <th>27799</th>\n",
       "      <td>Win</td>\n",
       "      <td>False</td>\n",
       "      <td>False</td>\n",
       "      <td>True</td>\n",
       "      <td>False</td>\n",
       "    </tr>\n",
       "    <tr>\n",
       "      <th>27859</th>\n",
       "      <td>Fail</td>\n",
       "      <td>False</td>\n",
       "      <td>False</td>\n",
       "      <td>False</td>\n",
       "      <td>False</td>\n",
       "    </tr>\n",
       "    <tr>\n",
       "      <th>27873</th>\n",
       "      <td>Win</td>\n",
       "      <td>False</td>\n",
       "      <td>False</td>\n",
       "      <td>True</td>\n",
       "      <td>False</td>\n",
       "    </tr>\n",
       "  </tbody>\n",
       "</table>\n",
       "<p>13647 rows × 5 columns</p>\n",
       "</div>"
      ],
      "text/plain": [
       "        win firstBlood firstTower firstInhibitor firstDragon\n",
       "0      Fail       True       True          False       False\n",
       "1      Fail      False      False          False        True\n",
       "2       Win      False       True           True       False\n",
       "3      Fail      False      False          False       False\n",
       "4       Win      False       True           True       False\n",
       "...     ...        ...        ...            ...         ...\n",
       "27792   Win       True      False          False        True\n",
       "27796   Win       True       True           True       False\n",
       "27799   Win      False      False           True       False\n",
       "27859  Fail      False      False          False       False\n",
       "27873   Win      False      False           True       False\n",
       "\n",
       "[13647 rows x 5 columns]"
      ]
     },
     "execution_count": 10,
     "metadata": {},
     "output_type": "execute_result"
    }
   ],
   "source": [
    "chal_teams_df1"
   ]
  },
  {
   "cell_type": "markdown",
   "metadata": {},
   "source": [
    "# 'BTID' 컬럼에 각 요소 별 True값에 따라 유형 분류"
   ]
  },
  {
   "cell_type": "code",
   "execution_count": 11,
   "metadata": {},
   "outputs": [],
   "source": [
    "chal_teams_df1['BTID'] = ''"
   ]
  },
  {
   "cell_type": "code",
   "execution_count": 12,
   "metadata": {},
   "outputs": [],
   "source": [
    "chal_teams_df1['BTID'] = np.where(\n",
    "    (chal_teams_df1['firstBlood'] == True) & \n",
    "    (chal_teams_df1['firstTower'] == False) &\n",
    "    (chal_teams_df1['firstInhibitor'] == False) &\n",
    "    (chal_teams_df1['firstDragon'] == False) , 'B',chal_teams_df1['BTID'])"
   ]
  },
  {
   "cell_type": "code",
   "execution_count": 13,
   "metadata": {},
   "outputs": [],
   "source": [
    "chal_teams_df1['BTID'] = np.where(\n",
    "    (chal_teams_df1['firstBlood'] == False) & \n",
    "    (chal_teams_df1['firstTower'] == True) &\n",
    "    (chal_teams_df1['firstInhibitor'] == False) &\n",
    "    (chal_teams_df1['firstDragon'] == False) , 'T',chal_teams_df1['BTID'])"
   ]
  },
  {
   "cell_type": "code",
   "execution_count": 14,
   "metadata": {},
   "outputs": [],
   "source": [
    "chal_teams_df1['BTID'] = np.where(\n",
    "    (chal_teams_df1['firstBlood'] == False) & \n",
    "    (chal_teams_df1['firstTower'] == False) &\n",
    "    (chal_teams_df1['firstInhibitor'] == True) &\n",
    "    (chal_teams_df1['firstDragon'] == False) , 'I',chal_teams_df1['BTID'])"
   ]
  },
  {
   "cell_type": "code",
   "execution_count": 15,
   "metadata": {},
   "outputs": [],
   "source": [
    "chal_teams_df1['BTID'] = np.where(\n",
    "    (chal_teams_df1['firstBlood'] == False) & \n",
    "    (chal_teams_df1['firstTower'] == False) &\n",
    "    (chal_teams_df1['firstInhibitor'] == False) &\n",
    "    (chal_teams_df1['firstDragon'] == True) , 'D',chal_teams_df1['BTID'])"
   ]
  },
  {
   "cell_type": "code",
   "execution_count": 16,
   "metadata": {},
   "outputs": [],
   "source": [
    "chal_teams_df1['BTID'] = np.where(\n",
    "    (chal_teams_df1['firstBlood'] == True) & \n",
    "    (chal_teams_df1['firstTower'] == True) &\n",
    "    (chal_teams_df1['firstInhibitor'] == False) &\n",
    "    (chal_teams_df1['firstDragon'] == False) , 'BT',chal_teams_df1['BTID'])"
   ]
  },
  {
   "cell_type": "code",
   "execution_count": 17,
   "metadata": {},
   "outputs": [],
   "source": [
    "chal_teams_df1['BTID'] = np.where(\n",
    "    (chal_teams_df1['firstBlood'] == True) & \n",
    "    (chal_teams_df1['firstTower'] == False) &\n",
    "    (chal_teams_df1['firstInhibitor'] == True) &\n",
    "    (chal_teams_df1['firstDragon'] == False) , 'BI',chal_teams_df1['BTID'])"
   ]
  },
  {
   "cell_type": "code",
   "execution_count": 18,
   "metadata": {},
   "outputs": [],
   "source": [
    "chal_teams_df1['BTID'] = np.where(\n",
    "    (chal_teams_df1['firstBlood'] == True) & \n",
    "    (chal_teams_df1['firstTower'] == False) &\n",
    "    (chal_teams_df1['firstInhibitor'] == False) &\n",
    "    (chal_teams_df1['firstDragon'] == True) , 'BD',chal_teams_df1['BTID'])"
   ]
  },
  {
   "cell_type": "code",
   "execution_count": 19,
   "metadata": {},
   "outputs": [],
   "source": [
    "chal_teams_df1['BTID'] = np.where(\n",
    "    (chal_teams_df1['firstBlood'] == False) & \n",
    "    (chal_teams_df1['firstTower'] == True) &\n",
    "    (chal_teams_df1['firstInhibitor'] == True) &\n",
    "    (chal_teams_df1['firstDragon'] == False) , 'TI',chal_teams_df1['BTID'])"
   ]
  },
  {
   "cell_type": "code",
   "execution_count": 20,
   "metadata": {},
   "outputs": [],
   "source": [
    "chal_teams_df1['BTID'] = np.where(\n",
    "    (chal_teams_df1['firstBlood'] == False) & \n",
    "    (chal_teams_df1['firstTower'] == True) &\n",
    "    (chal_teams_df1['firstInhibitor'] == False) &\n",
    "    (chal_teams_df1['firstDragon'] == True) , 'TD',chal_teams_df1['BTID'])"
   ]
  },
  {
   "cell_type": "code",
   "execution_count": 21,
   "metadata": {},
   "outputs": [],
   "source": [
    "chal_teams_df1['BTID'] = np.where(\n",
    "    (chal_teams_df1['firstBlood'] == False) & \n",
    "    (chal_teams_df1['firstTower'] == False) &\n",
    "    (chal_teams_df1['firstInhibitor'] == True) &\n",
    "    (chal_teams_df1['firstDragon'] == True) , 'ID',chal_teams_df1['BTID'])"
   ]
  },
  {
   "cell_type": "code",
   "execution_count": 22,
   "metadata": {},
   "outputs": [],
   "source": [
    "chal_teams_df1['BTID'] = np.where(\n",
    "    (chal_teams_df1['firstBlood'] == True) & \n",
    "    (chal_teams_df1['firstTower'] == True) &\n",
    "    (chal_teams_df1['firstInhibitor'] == True) &\n",
    "    (chal_teams_df1['firstDragon'] == False) , 'BTI',chal_teams_df1['BTID'])"
   ]
  },
  {
   "cell_type": "code",
   "execution_count": 23,
   "metadata": {},
   "outputs": [],
   "source": [
    "chal_teams_df1['BTID'] = np.where(\n",
    "    (chal_teams_df1['firstBlood'] == True) & \n",
    "    (chal_teams_df1['firstTower'] == True) &\n",
    "    (chal_teams_df1['firstInhibitor'] == False) &\n",
    "    (chal_teams_df1['firstDragon'] == True) , 'BTD',chal_teams_df1['BTID'])"
   ]
  },
  {
   "cell_type": "code",
   "execution_count": 24,
   "metadata": {},
   "outputs": [],
   "source": [
    "chal_teams_df1['BTID'] = np.where(\n",
    "    (chal_teams_df1['firstBlood'] == True) & \n",
    "    (chal_teams_df1['firstTower'] == False) &\n",
    "    (chal_teams_df1['firstInhibitor'] == True) &\n",
    "    (chal_teams_df1['firstDragon'] == True) , 'BID',chal_teams_df1['BTID'])"
   ]
  },
  {
   "cell_type": "code",
   "execution_count": 25,
   "metadata": {},
   "outputs": [],
   "source": [
    "chal_teams_df1['BTID'] = np.where(\n",
    "    (chal_teams_df1['firstBlood'] == False) & \n",
    "    (chal_teams_df1['firstTower'] == True) &\n",
    "    (chal_teams_df1['firstInhibitor'] == True) &\n",
    "    (chal_teams_df1['firstDragon'] == True) , 'TID',chal_teams_df1['BTID'])"
   ]
  },
  {
   "cell_type": "code",
   "execution_count": 26,
   "metadata": {},
   "outputs": [],
   "source": [
    "chal_teams_df1['BTID'] = np.where(\n",
    "    (chal_teams_df1['firstBlood'] == True) & \n",
    "    (chal_teams_df1['firstTower'] == True) &\n",
    "    (chal_teams_df1['firstInhibitor'] == True) &\n",
    "    (chal_teams_df1['firstDragon'] == True) , 'BTID',chal_teams_df1['BTID'])"
   ]
  },
  {
   "cell_type": "code",
   "execution_count": 27,
   "metadata": {},
   "outputs": [],
   "source": [
    "chal_teams_df1['BTID'] = np.where(\n",
    "    (chal_teams_df1['firstBlood'] == False) & \n",
    "    (chal_teams_df1['firstTower'] == False) &\n",
    "    (chal_teams_df1['firstInhibitor'] == False) &\n",
    "    (chal_teams_df1['firstDragon'] == False) , 'FFFF',chal_teams_df1['BTID'])"
   ]
  },
  {
   "cell_type": "code",
   "execution_count": 28,
   "metadata": {},
   "outputs": [
    {
     "data": {
      "text/plain": [
       "win               0\n",
       "firstBlood        0\n",
       "firstTower        0\n",
       "firstInhibitor    0\n",
       "firstDragon       0\n",
       "BTID              0\n",
       "dtype: int64"
      ]
     },
     "execution_count": 28,
     "metadata": {},
     "output_type": "execute_result"
    }
   ],
   "source": [
    "chal_teams_df1.isnull().sum()"
   ]
  },
  {
   "cell_type": "markdown",
   "metadata": {},
   "source": [
    "# 각 유형별 승/패 데이터 그래프(수정 전)"
   ]
  },
  {
   "cell_type": "code",
   "execution_count": 29,
   "metadata": {},
   "outputs": [
    {
     "data": {
      "text/plain": [
       "<AxesSubplot:xlabel='BTID', ylabel='count'>"
      ]
     },
     "execution_count": 29,
     "metadata": {},
     "output_type": "execute_result"
    },
    {
     "data": {
      "image/png": "[encoded data removed]",
      "text/plain": [
       "<Figure size 432x288 with 1 Axes>"
      ]
     },
     "metadata": {
      "image/png": {
       "height": 263,
       "width": 392
      },
      "needs_background": "light"
     },
     "output_type": "display_data"
    }
   ],
   "source": [
    "sns.countplot(data=chal_teams_df1, x=\"BTID\", hue=\"win\")"
   ]
  },
  {
   "cell_type": "markdown",
   "metadata": {},
   "source": [
    "# BTID 컬럼 글자 수 기준 오름차순으로 정렬"
   ]
  },
  {
   "cell_type": "code",
   "execution_count": 50,
   "metadata": {},
   "outputs": [
    {
     "data": {
      "text/html": [
       "<div>\n",
       "<style scoped>\n",
       "    .dataframe tbody tr th:only-of-type {\n",
       "        vertical-align: middle;\n",
       "    }\n",
       "\n",
       "    .dataframe tbody tr th {\n",
       "        vertical-align: top;\n",
       "    }\n",
       "\n",
       "    .dataframe thead th {\n",
       "        text-align: right;\n",
       "    }\n",
       "</style>\n",
       "<table border=\"1\" class=\"dataframe\">\n",
       "  <thead>\n",
       "    <tr style=\"text-align: right;\">\n",
       "      <th></th>\n",
       "      <th>win</th>\n",
       "      <th>firstBlood</th>\n",
       "      <th>firstTower</th>\n",
       "      <th>firstInhibitor</th>\n",
       "      <th>firstDragon</th>\n",
       "      <th>BTID</th>\n",
       "    </tr>\n",
       "  </thead>\n",
       "  <tbody>\n",
       "    <tr>\n",
       "      <th>27873</th>\n",
       "      <td>Win</td>\n",
       "      <td>False</td>\n",
       "      <td>False</td>\n",
       "      <td>True</td>\n",
       "      <td>False</td>\n",
       "      <td>I</td>\n",
       "    </tr>\n",
       "    <tr>\n",
       "      <th>13960</th>\n",
       "      <td>Fail</td>\n",
       "      <td>True</td>\n",
       "      <td>False</td>\n",
       "      <td>False</td>\n",
       "      <td>False</td>\n",
       "      <td>B</td>\n",
       "    </tr>\n",
       "    <tr>\n",
       "      <th>4167</th>\n",
       "      <td>Fail</td>\n",
       "      <td>False</td>\n",
       "      <td>False</td>\n",
       "      <td>False</td>\n",
       "      <td>True</td>\n",
       "      <td>D</td>\n",
       "    </tr>\n",
       "    <tr>\n",
       "      <th>4168</th>\n",
       "      <td>Fail</td>\n",
       "      <td>False</td>\n",
       "      <td>True</td>\n",
       "      <td>False</td>\n",
       "      <td>False</td>\n",
       "      <td>T</td>\n",
       "    </tr>\n",
       "    <tr>\n",
       "      <th>4169</th>\n",
       "      <td>Fail</td>\n",
       "      <td>True</td>\n",
       "      <td>False</td>\n",
       "      <td>False</td>\n",
       "      <td>False</td>\n",
       "      <td>B</td>\n",
       "    </tr>\n",
       "    <tr>\n",
       "      <th>...</th>\n",
       "      <td>...</td>\n",
       "      <td>...</td>\n",
       "      <td>...</td>\n",
       "      <td>...</td>\n",
       "      <td>...</td>\n",
       "      <td>...</td>\n",
       "    </tr>\n",
       "    <tr>\n",
       "      <th>2590</th>\n",
       "      <td>Win</td>\n",
       "      <td>True</td>\n",
       "      <td>True</td>\n",
       "      <td>True</td>\n",
       "      <td>True</td>\n",
       "      <td>BTID</td>\n",
       "    </tr>\n",
       "    <tr>\n",
       "      <th>2588</th>\n",
       "      <td>Win</td>\n",
       "      <td>True</td>\n",
       "      <td>True</td>\n",
       "      <td>True</td>\n",
       "      <td>True</td>\n",
       "      <td>BTID</td>\n",
       "    </tr>\n",
       "    <tr>\n",
       "      <th>5428</th>\n",
       "      <td>Win</td>\n",
       "      <td>True</td>\n",
       "      <td>True</td>\n",
       "      <td>True</td>\n",
       "      <td>True</td>\n",
       "      <td>BTID</td>\n",
       "    </tr>\n",
       "    <tr>\n",
       "      <th>17994</th>\n",
       "      <td>Fail</td>\n",
       "      <td>False</td>\n",
       "      <td>False</td>\n",
       "      <td>False</td>\n",
       "      <td>False</td>\n",
       "      <td>FFFF</td>\n",
       "    </tr>\n",
       "    <tr>\n",
       "      <th>19859</th>\n",
       "      <td>Win</td>\n",
       "      <td>True</td>\n",
       "      <td>True</td>\n",
       "      <td>True</td>\n",
       "      <td>True</td>\n",
       "      <td>BTID</td>\n",
       "    </tr>\n",
       "  </tbody>\n",
       "</table>\n",
       "<p>13647 rows × 6 columns</p>\n",
       "</div>"
      ],
      "text/plain": [
       "        win firstBlood firstTower firstInhibitor firstDragon  BTID\n",
       "27873   Win      False      False           True       False     I\n",
       "13960  Fail       True      False          False       False     B\n",
       "4167   Fail      False      False          False        True     D\n",
       "4168   Fail      False       True          False       False     T\n",
       "4169   Fail       True      False          False       False     B\n",
       "...     ...        ...        ...            ...         ...   ...\n",
       "2590    Win       True       True           True        True  BTID\n",
       "2588    Win       True       True           True        True  BTID\n",
       "5428    Win       True       True           True        True  BTID\n",
       "17994  Fail      False      False          False       False  FFFF\n",
       "19859   Win       True       True           True        True  BTID\n",
       "\n",
       "[13647 rows x 6 columns]"
      ]
     },
     "execution_count": 50,
     "metadata": {},
     "output_type": "execute_result"
    }
   ],
   "source": [
    "chal_teams_df2 = chal_teams_df1.sort_values(by=[\"BTID\"],key=lambda x:x.str.len())\n",
    "chal_teams_df2"
   ]
  },
  {
   "cell_type": "code",
   "execution_count": 163,
   "metadata": {},
   "outputs": [
    {
     "data": {
      "text/plain": [
       "['I',\n",
       " 'B',\n",
       " 'D',\n",
       " 'T',\n",
       " 'BT',\n",
       " 'TD',\n",
       " 'BI',\n",
       " 'TI',\n",
       " 'BD',\n",
       " 'ID',\n",
       " 'TID',\n",
       " 'BTI',\n",
       " 'BID',\n",
       " 'BTD',\n",
       " 'BTID',\n",
       " 'FFFF']"
      ]
     },
     "execution_count": 163,
     "metadata": {},
     "output_type": "execute_result"
    }
   ],
   "source": [
    "xlabels = list(chal_teams_df2['BTID'].unique())"
   ]
  },
  {
   "cell_type": "code",
   "execution_count": null,
   "metadata": {},
   "outputs": [],
   "source": []
  },
  {
   "cell_type": "markdown",
   "metadata": {},
   "source": [
    "# 각 유형별 승/패 데이터 그래프(수정 후)"
   ]
  },
  {
   "cell_type": "code",
   "execution_count": 146,
   "metadata": {
    "scrolled": false
   },
   "outputs": [
    {
     "data": {
      "image/png": "[encoded data removed]",
      "text/plain": [
       "<Figure size 576x288 with 1 Axes>"
      ]
     },
     "metadata": {
      "image/png": {
       "height": 290,
       "width": 504
      },
      "needs_background": "light"
     },
     "output_type": "display_data"
    }
   ],
   "source": [
    "chart1 = plt.subplots(figsize=(8,4))\n",
    "chart1 = sns.countplot(data=chal_teams_df2, x=\"BTID\", hue=\"win\")\n",
    "\n",
    "chart1.set_title('각 요소 선취에 따른 승/패 그래프')\n",
    "chart1.set_xlabel('B = Blood , T = Tower , I = Inhibitor , D = Dragon')\n",
    "chart1.set_ylabel('경기 수')\n",
    "chart1.set_xticklabels(labels = xlabels, rotation=45)\n",
    "\n",
    "plt.show()"
   ]
  },
  {
   "cell_type": "markdown",
   "metadata": {},
   "source": [
    "## 크기 순서대로 나열"
   ]
  },
  {
   "cell_type": "code",
   "execution_count": 140,
   "metadata": {},
   "outputs": [
    {
     "data": {
      "text/plain": [
       "['FFFF',\n",
       " 'B',\n",
       " 'BTI',\n",
       " 'BT',\n",
       " 'BTID',\n",
       " 'BTD',\n",
       " 'T',\n",
       " 'TI',\n",
       " 'D',\n",
       " 'BD',\n",
       " 'TD',\n",
       " 'TID',\n",
       " 'BI',\n",
       " 'I',\n",
       " 'ID',\n",
       " 'BID']"
      ]
     },
     "execution_count": 140,
     "metadata": {},
     "output_type": "execute_result"
    }
   ],
   "source": [
    "xlabels_value = list(chal_teams_df1['BTID'].value_counts().index)"
   ]
  },
  {
   "cell_type": "code",
   "execution_count": 160,
   "metadata": {},
   "outputs": [
    {
     "data": {
      "image/png": "[encoded data removed]",
      "text/plain": [
       "<Figure size 576x288 with 1 Axes>"
      ]
     },
     "metadata": {
      "image/png": {
       "height": 290,
       "width": 504
      },
      "needs_background": "light"
     },
     "output_type": "display_data"
    }
   ],
   "source": [
    "chart1 = plt.subplots(figsize=(8,4))\n",
    "chart1 = sns.countplot(data=chal_teams_df2, x=\"BTID\", hue=\"win\",order =xlabels_value )\n",
    "\n",
    "chart1.set_title('각 요소 선취에 따른 승/패 그래프')\n",
    "chart1.set_xlabel('B = Blood , T = Tower , I = Inhibitor , D = Dragon')\n",
    "chart1.set_ylabel('경기 수')\n",
    "chart1.set_xticklabels(labels = xlabels_value, rotation=45)\n",
    "\n",
    "plt.show()"
   ]
  },
  {
   "cell_type": "markdown",
   "metadata": {},
   "source": [
    "# 각 유형 별 승리 데이터 그래프"
   ]
  },
  {
   "cell_type": "markdown",
   "metadata": {},
   "source": [
    "## BTI ( firstBlood + Tower + Inhibitor) 를 얻은 게임이 가장 승리가 많음\n",
    "## BTID ( 선취점+ 타워 +억제기 +용) 모두 얻은 팀의 승리가 가장 많을 것이라 예측했으나 다른 결과"
   ]
  },
  {
   "cell_type": "code",
   "execution_count": 32,
   "metadata": {
    "scrolled": false
   },
   "outputs": [
    {
     "data": {
      "text/html": [
       "<div>\n",
       "<style scoped>\n",
       "    .dataframe tbody tr th:only-of-type {\n",
       "        vertical-align: middle;\n",
       "    }\n",
       "\n",
       "    .dataframe tbody tr th {\n",
       "        vertical-align: top;\n",
       "    }\n",
       "\n",
       "    .dataframe thead th {\n",
       "        text-align: right;\n",
       "    }\n",
       "</style>\n",
       "<table border=\"1\" class=\"dataframe\">\n",
       "  <thead>\n",
       "    <tr style=\"text-align: right;\">\n",
       "      <th></th>\n",
       "      <th>win</th>\n",
       "      <th>firstBlood</th>\n",
       "      <th>firstTower</th>\n",
       "      <th>firstInhibitor</th>\n",
       "      <th>firstDragon</th>\n",
       "      <th>BTID</th>\n",
       "    </tr>\n",
       "  </thead>\n",
       "  <tbody>\n",
       "    <tr>\n",
       "      <th>27873</th>\n",
       "      <td>Win</td>\n",
       "      <td>False</td>\n",
       "      <td>False</td>\n",
       "      <td>True</td>\n",
       "      <td>False</td>\n",
       "      <td>I</td>\n",
       "    </tr>\n",
       "    <tr>\n",
       "      <th>13952</th>\n",
       "      <td>Win</td>\n",
       "      <td>False</td>\n",
       "      <td>True</td>\n",
       "      <td>False</td>\n",
       "      <td>False</td>\n",
       "      <td>T</td>\n",
       "    </tr>\n",
       "    <tr>\n",
       "      <th>4179</th>\n",
       "      <td>Win</td>\n",
       "      <td>False</td>\n",
       "      <td>False</td>\n",
       "      <td>False</td>\n",
       "      <td>True</td>\n",
       "      <td>D</td>\n",
       "    </tr>\n",
       "    <tr>\n",
       "      <th>4180</th>\n",
       "      <td>Win</td>\n",
       "      <td>False</td>\n",
       "      <td>False</td>\n",
       "      <td>True</td>\n",
       "      <td>False</td>\n",
       "      <td>I</td>\n",
       "    </tr>\n",
       "    <tr>\n",
       "      <th>4182</th>\n",
       "      <td>Win</td>\n",
       "      <td>False</td>\n",
       "      <td>False</td>\n",
       "      <td>True</td>\n",
       "      <td>False</td>\n",
       "      <td>I</td>\n",
       "    </tr>\n",
       "    <tr>\n",
       "      <th>...</th>\n",
       "      <td>...</td>\n",
       "      <td>...</td>\n",
       "      <td>...</td>\n",
       "      <td>...</td>\n",
       "      <td>...</td>\n",
       "      <td>...</td>\n",
       "    </tr>\n",
       "    <tr>\n",
       "      <th>2592</th>\n",
       "      <td>Win</td>\n",
       "      <td>True</td>\n",
       "      <td>True</td>\n",
       "      <td>True</td>\n",
       "      <td>True</td>\n",
       "      <td>BTID</td>\n",
       "    </tr>\n",
       "    <tr>\n",
       "      <th>2590</th>\n",
       "      <td>Win</td>\n",
       "      <td>True</td>\n",
       "      <td>True</td>\n",
       "      <td>True</td>\n",
       "      <td>True</td>\n",
       "      <td>BTID</td>\n",
       "    </tr>\n",
       "    <tr>\n",
       "      <th>2588</th>\n",
       "      <td>Win</td>\n",
       "      <td>True</td>\n",
       "      <td>True</td>\n",
       "      <td>True</td>\n",
       "      <td>True</td>\n",
       "      <td>BTID</td>\n",
       "    </tr>\n",
       "    <tr>\n",
       "      <th>5428</th>\n",
       "      <td>Win</td>\n",
       "      <td>True</td>\n",
       "      <td>True</td>\n",
       "      <td>True</td>\n",
       "      <td>True</td>\n",
       "      <td>BTID</td>\n",
       "    </tr>\n",
       "    <tr>\n",
       "      <th>19859</th>\n",
       "      <td>Win</td>\n",
       "      <td>True</td>\n",
       "      <td>True</td>\n",
       "      <td>True</td>\n",
       "      <td>True</td>\n",
       "      <td>BTID</td>\n",
       "    </tr>\n",
       "  </tbody>\n",
       "</table>\n",
       "<p>6660 rows × 6 columns</p>\n",
       "</div>"
      ],
      "text/plain": [
       "       win firstBlood firstTower firstInhibitor firstDragon  BTID\n",
       "27873  Win      False      False           True       False     I\n",
       "13952  Win      False       True          False       False     T\n",
       "4179   Win      False      False          False        True     D\n",
       "4180   Win      False      False           True       False     I\n",
       "4182   Win      False      False           True       False     I\n",
       "...    ...        ...        ...            ...         ...   ...\n",
       "2592   Win       True       True           True        True  BTID\n",
       "2590   Win       True       True           True        True  BTID\n",
       "2588   Win       True       True           True        True  BTID\n",
       "5428   Win       True       True           True        True  BTID\n",
       "19859  Win       True       True           True        True  BTID\n",
       "\n",
       "[6660 rows x 6 columns]"
      ]
     },
     "execution_count": 32,
     "metadata": {},
     "output_type": "execute_result"
    }
   ],
   "source": [
    "chal_teams_win_df = chal_teams_df2[chal_teams_df2['win'] == 'Win']\n",
    "chal_teams_win_df"
   ]
  },
  {
   "cell_type": "code",
   "execution_count": 118,
   "metadata": {},
   "outputs": [
    {
     "data": {
      "text/plain": [
       "array(['I', 'D', 'T', 'B', 'TD', 'TI', 'BI', 'BT', 'ID', 'BD', 'BID',\n",
       "       'BTD', 'BTI', 'TID', 'BTID', 'FFFF'], dtype=object)"
      ]
     },
     "execution_count": 118,
     "metadata": {},
     "output_type": "execute_result"
    }
   ],
   "source": [
    "chal_teams_win_df = chal_teams_win_df.sort_values(by=[\"BTID\"],key=lambda x:x.str.len())\n",
    "chal_teams_win_df['BTID'].unique()"
   ]
  },
  {
   "cell_type": "code",
   "execution_count": 164,
   "metadata": {},
   "outputs": [
    {
     "data": {
      "text/plain": [
       "['I',\n",
       " 'D',\n",
       " 'T',\n",
       " 'B',\n",
       " 'TD',\n",
       " 'TI',\n",
       " 'BI',\n",
       " 'BT',\n",
       " 'ID',\n",
       " 'BD',\n",
       " 'BID',\n",
       " 'BTD',\n",
       " 'BTI',\n",
       " 'TID',\n",
       " 'BTID',\n",
       " 'FFFF']"
      ]
     },
     "execution_count": 164,
     "metadata": {},
     "output_type": "execute_result"
    }
   ],
   "source": [
    "xlabels_win1 = list(chal_teams_win_df['BTID'].unique())"
   ]
  },
  {
   "cell_type": "code",
   "execution_count": 165,
   "metadata": {
    "scrolled": true
   },
   "outputs": [
    {
     "data": {
      "image/png": "[encoded data removed]",
      "text/plain": [
       "<Figure size 576x288 with 1 Axes>"
      ]
     },
     "metadata": {
      "image/png": {
       "height": 290,
       "width": 504
      },
      "needs_background": "light"
     },
     "output_type": "display_data"
    }
   ],
   "source": [
    "chart2 = plt.subplots(figsize=(8,4))\n",
    "chart2 = sns.countplot(data=chal_teams_win_df, x=\"BTID\")\n",
    "\n",
    "chart2.set_title('각 요소 선취에 따른 승리 그래프')\n",
    "chart2.set_xlabel('B = Blood , T = Tower , I = Inhibitor , D = Dragon')\n",
    "chart2.set_ylabel('경기 수')\n",
    "chart2.set_xticklabels(labels = xlabels_win1, rotation=45)\n",
    "plt.show()"
   ]
  },
  {
   "cell_type": "markdown",
   "metadata": {},
   "source": [
    "## 크기순서대로 나열"
   ]
  },
  {
   "cell_type": "code",
   "execution_count": 152,
   "metadata": {},
   "outputs": [
    {
     "data": {
      "text/plain": [
       "Index(['BTI', 'BTID', 'TI', 'BTD', 'TID', 'BT', 'TD', 'BI', 'I', 'T', 'ID',\n",
       "       'FFFF', 'B', 'BID', 'BD', 'D'],\n",
       "      dtype='object')"
      ]
     },
     "execution_count": 152,
     "metadata": {},
     "output_type": "execute_result"
    }
   ],
   "source": [
    "chal_teams_win_df['BTID'].value_counts().index"
   ]
  },
  {
   "cell_type": "code",
   "execution_count": 162,
   "metadata": {},
   "outputs": [
    {
     "data": {
      "text/plain": [
       "BTI     1031\n",
       "BTID     932\n",
       "TI       715\n",
       "BTD      669\n",
       "TID      494\n",
       "BT       469\n",
       "TD       355\n",
       "BI       321\n",
       "I        292\n",
       "T        289\n",
       "ID       258\n",
       "FFFF     196\n",
       "B        186\n",
       "BID      183\n",
       "BD       147\n",
       "D        123\n",
       "Name: BTID, dtype: int64"
      ]
     },
     "execution_count": 162,
     "metadata": {},
     "output_type": "execute_result"
    }
   ],
   "source": [
    "chal_teams_win_df['BTID'].value_counts()"
   ]
  },
  {
   "cell_type": "code",
   "execution_count": 161,
   "metadata": {},
   "outputs": [
    {
     "data": {
      "text/plain": [
       "['BTI',\n",
       " 'BTID',\n",
       " 'TI',\n",
       " 'BTD',\n",
       " 'TID',\n",
       " 'BT',\n",
       " 'TD',\n",
       " 'BI',\n",
       " 'I',\n",
       " 'T',\n",
       " 'ID',\n",
       " 'FFFF',\n",
       " 'B',\n",
       " 'BID',\n",
       " 'BD',\n",
       " 'D']"
      ]
     },
     "execution_count": 161,
     "metadata": {},
     "output_type": "execute_result"
    }
   ],
   "source": [
    "xlabels_win = list(chal_teams_win_df['BTID'].value_counts().index)\n",
    "xlabels_win"
   ]
  },
  {
   "cell_type": "code",
   "execution_count": 154,
   "metadata": {},
   "outputs": [
    {
     "data": {
      "image/png": "[encoded data removed]",
      "text/plain": [
       "<Figure size 576x288 with 1 Axes>"
      ]
     },
     "metadata": {
      "image/png": {
       "height": 290,
       "width": 504
      },
      "needs_background": "light"
     },
     "output_type": "display_data"
    }
   ],
   "source": [
    "chart2 = plt.subplots(figsize=(8,4))\n",
    "chart2 = sns.countplot(data=chal_teams_win_df, x=\"BTID\",order = xlabels_win)\n",
    "\n",
    "chart2.set_title('각 요소 선취에 따른 승리 그래프')\n",
    "chart2.set_xlabel('B = Blood , T = Tower , I = Inhibitor , D = Dragon')\n",
    "chart2.set_ylabel('경기 수')\n",
    "chart2.set_xticklabels(labels = xlabels_win, rotation=45)\n",
    "plt.show()"
   ]
  },
  {
   "cell_type": "markdown",
   "metadata": {},
   "source": [
    "# 각 유형 별 패배 데이터 그래프"
   ]
  },
  {
   "cell_type": "code",
   "execution_count": 34,
   "metadata": {
    "scrolled": true
   },
   "outputs": [
    {
     "data": {
      "text/html": [
       "<div>\n",
       "<style scoped>\n",
       "    .dataframe tbody tr th:only-of-type {\n",
       "        vertical-align: middle;\n",
       "    }\n",
       "\n",
       "    .dataframe tbody tr th {\n",
       "        vertical-align: top;\n",
       "    }\n",
       "\n",
       "    .dataframe thead th {\n",
       "        text-align: right;\n",
       "    }\n",
       "</style>\n",
       "<table border=\"1\" class=\"dataframe\">\n",
       "  <thead>\n",
       "    <tr style=\"text-align: right;\">\n",
       "      <th></th>\n",
       "      <th>win</th>\n",
       "      <th>firstBlood</th>\n",
       "      <th>firstTower</th>\n",
       "      <th>firstInhibitor</th>\n",
       "      <th>firstDragon</th>\n",
       "      <th>BTID</th>\n",
       "    </tr>\n",
       "  </thead>\n",
       "  <tbody>\n",
       "    <tr>\n",
       "      <th>13960</th>\n",
       "      <td>Fail</td>\n",
       "      <td>True</td>\n",
       "      <td>False</td>\n",
       "      <td>False</td>\n",
       "      <td>False</td>\n",
       "      <td>B</td>\n",
       "    </tr>\n",
       "    <tr>\n",
       "      <th>4167</th>\n",
       "      <td>Fail</td>\n",
       "      <td>False</td>\n",
       "      <td>False</td>\n",
       "      <td>False</td>\n",
       "      <td>True</td>\n",
       "      <td>D</td>\n",
       "    </tr>\n",
       "    <tr>\n",
       "      <th>4168</th>\n",
       "      <td>Fail</td>\n",
       "      <td>False</td>\n",
       "      <td>True</td>\n",
       "      <td>False</td>\n",
       "      <td>False</td>\n",
       "      <td>T</td>\n",
       "    </tr>\n",
       "    <tr>\n",
       "      <th>4169</th>\n",
       "      <td>Fail</td>\n",
       "      <td>True</td>\n",
       "      <td>False</td>\n",
       "      <td>False</td>\n",
       "      <td>False</td>\n",
       "      <td>B</td>\n",
       "    </tr>\n",
       "    <tr>\n",
       "      <th>13958</th>\n",
       "      <td>Fail</td>\n",
       "      <td>True</td>\n",
       "      <td>False</td>\n",
       "      <td>False</td>\n",
       "      <td>False</td>\n",
       "      <td>B</td>\n",
       "    </tr>\n",
       "    <tr>\n",
       "      <th>...</th>\n",
       "      <td>...</td>\n",
       "      <td>...</td>\n",
       "      <td>...</td>\n",
       "      <td>...</td>\n",
       "      <td>...</td>\n",
       "      <td>...</td>\n",
       "    </tr>\n",
       "    <tr>\n",
       "      <th>18257</th>\n",
       "      <td>Fail</td>\n",
       "      <td>False</td>\n",
       "      <td>False</td>\n",
       "      <td>False</td>\n",
       "      <td>False</td>\n",
       "      <td>FFFF</td>\n",
       "    </tr>\n",
       "    <tr>\n",
       "      <th>18262</th>\n",
       "      <td>Fail</td>\n",
       "      <td>False</td>\n",
       "      <td>False</td>\n",
       "      <td>False</td>\n",
       "      <td>False</td>\n",
       "      <td>FFFF</td>\n",
       "    </tr>\n",
       "    <tr>\n",
       "      <th>18276</th>\n",
       "      <td>Fail</td>\n",
       "      <td>False</td>\n",
       "      <td>False</td>\n",
       "      <td>False</td>\n",
       "      <td>False</td>\n",
       "      <td>FFFF</td>\n",
       "    </tr>\n",
       "    <tr>\n",
       "      <th>18277</th>\n",
       "      <td>Fail</td>\n",
       "      <td>False</td>\n",
       "      <td>False</td>\n",
       "      <td>False</td>\n",
       "      <td>False</td>\n",
       "      <td>FFFF</td>\n",
       "    </tr>\n",
       "    <tr>\n",
       "      <th>17994</th>\n",
       "      <td>Fail</td>\n",
       "      <td>False</td>\n",
       "      <td>False</td>\n",
       "      <td>False</td>\n",
       "      <td>False</td>\n",
       "      <td>FFFF</td>\n",
       "    </tr>\n",
       "  </tbody>\n",
       "</table>\n",
       "<p>6987 rows × 6 columns</p>\n",
       "</div>"
      ],
      "text/plain": [
       "        win firstBlood firstTower firstInhibitor firstDragon  BTID\n",
       "13960  Fail       True      False          False       False     B\n",
       "4167   Fail      False      False          False        True     D\n",
       "4168   Fail      False       True          False       False     T\n",
       "4169   Fail       True      False          False       False     B\n",
       "13958  Fail       True      False          False       False     B\n",
       "...     ...        ...        ...            ...         ...   ...\n",
       "18257  Fail      False      False          False       False  FFFF\n",
       "18262  Fail      False      False          False       False  FFFF\n",
       "18276  Fail      False      False          False       False  FFFF\n",
       "18277  Fail      False      False          False       False  FFFF\n",
       "17994  Fail      False      False          False       False  FFFF\n",
       "\n",
       "[6987 rows x 6 columns]"
      ]
     },
     "execution_count": 34,
     "metadata": {},
     "output_type": "execute_result"
    }
   ],
   "source": [
    "chal_teams_lose_df = chal_teams_df2[chal_teams_df2['win'] == 'Fail']\n",
    "chal_teams_lose_df"
   ]
  },
  {
   "cell_type": "code",
   "execution_count": 131,
   "metadata": {},
   "outputs": [],
   "source": [
    "xlabels3 = list(chal_teams_lose_df['BTID'].unique())"
   ]
  },
  {
   "cell_type": "code",
   "execution_count": 127,
   "metadata": {},
   "outputs": [
    {
     "data": {
      "image/png": "[encoded data removed]",
      "text/plain": [
       "<Figure size 576x288 with 1 Axes>"
      ]
     },
     "metadata": {
      "image/png": {
       "height": 290,
       "width": 504
      },
      "needs_background": "light"
     },
     "output_type": "display_data"
    }
   ],
   "source": [
    "chart3 = plt.subplots(figsize=(8,4))\n",
    "chart3 = sns.countplot(data=chal_teams_lose_df, x=\"BTID\")\n",
    "\n",
    "chart3.set_title('각 요소 선취에 따른 패배 그래프')\n",
    "chart3.set_xlabel('B = Blood , T = Tower , I = Inhibitor , D = Dragon')\n",
    "chart3.set_ylabel('경기 수')\n",
    "chart3.set_xticklabels(labels = xlabels3, rotation=45)\n",
    "plt.show()"
   ]
  },
  {
   "cell_type": "markdown",
   "metadata": {},
   "source": [
    "## 크기순서대로 나열"
   ]
  },
  {
   "cell_type": "code",
   "execution_count": 157,
   "metadata": {},
   "outputs": [],
   "source": [
    "xlabel_lose = list(chal_teams_lose_df['BTID'].value_counts().index)"
   ]
  },
  {
   "cell_type": "code",
   "execution_count": 159,
   "metadata": {},
   "outputs": [
    {
     "data": {
      "image/png": "[encoded data removed]",
      "text/plain": [
       "<Figure size 576x288 with 1 Axes>"
      ]
     },
     "metadata": {
      "image/png": {
       "height": 290,
       "width": 504
      },
      "needs_background": "light"
     },
     "output_type": "display_data"
    }
   ],
   "source": [
    "chart3 = plt.subplots(figsize=(8,4))\n",
    "chart3 = sns.countplot(data=chal_teams_lose_df, x=\"BTID\",order =xlabel_lose)\n",
    "\n",
    "chart3.set_title('각 요소 선취에 따른 패배 그래프')\n",
    "chart3.set_xlabel('B = Blood , T = Tower , I = Inhibitor , D = Dragon')\n",
    "chart3.set_ylabel('경기 수')\n",
    "chart3.set_xticklabels(labels = xlabel_lose, rotation=45)\n",
    "plt.show()"
   ]
  }
 ],
 "metadata": {
  "jupytext": {
   "formats": "ipynb,auto:light"
  },
  "kernelspec": {
   "display_name": "Python 3",
   "language": "python",
   "name": "python3"
  },
  "language_info": {
   "codemirror_mode": {
    "name": "ipython",
    "version": 3
   },
   "file_extension": ".py",
   "mimetype": "text/x-python",
   "name": "python",
   "nbconvert_exporter": "python",
   "pygments_lexer": "ipython3",
   "version": "3.8.5"
  },
  "toc": {
   "base_numbering": 1,
   "nav_menu": {},
   "number_sections": true,
   "sideBar": true,
   "skip_h1_title": false,
   "title_cell": "Table of Contents",
   "title_sidebar": "Contents",
   "toc_cell": false,
   "toc_position": {},
   "toc_section_display": true,
   "toc_window_display": false
  }
 },
 "nbformat": 4,
 "nbformat_minor": 4
}
